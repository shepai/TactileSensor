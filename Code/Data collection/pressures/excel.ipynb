{
 "cells": [
  {
   "cell_type": "code",
   "execution_count": 2,
   "metadata": {},
   "outputs": [],
   "source": [
    "import numpy as np\n",
    "import matplotlib.pyplot as plt\n",
    "import matplotlib\n",
    "matplotlib.use('TkAgg')\n",
    "import sys\n",
    "if sys.platform.startswith('win'):\n",
    "    path=\"C:/Users/dexte/Documents/GitHub/TactileSensor/Code/Data collection/pressures/\"\n",
    "else:\n",
    "    path=\"/its/home/drs25/Documents/GitHub/TactileSensor/Code/Data collection/pressures/\"\n",
    "\n",
    "    #4362"
   ]
  },
  {
   "cell_type": "markdown",
   "metadata": {},
   "source": [
    "# Pressure"
   ]
  },
  {
   "cell_type": "code",
   "execution_count": 76,
   "metadata": {},
   "outputs": [
    {
     "data": {
      "text/plain": [
       "(100, 5, 10)"
      ]
     },
     "execution_count": 76,
     "metadata": {},
     "output_type": "execute_result"
    }
   ],
   "source": [
    "data=np.load(path+\"pressureVals_1.npy\")\n",
    "weights=np.load(path+\"pressureWeights_1.npy\")\n",
    "data.shape"
   ]
  },
  {
   "cell_type": "code",
   "execution_count": 79,
   "metadata": {},
   "outputs": [],
   "source": [
    "averaged=np.mean(data,axis=2)\n",
    "averaged=(averaged-np.min(averaged))/(np.max(averaged)-np.min(averaged))\n",
    "for i in range(len(data)):\n",
    "    plt.plot(weights[i],averaged[i])\n",
    "\n",
    "plt.ylabel(\"Pressure sensed as average in skin\")\n",
    "plt.xlabel(\"Pressure applied on surface\")\n",
    "plt.title(\"Pressure on surface vs pressure detected in sensors\")\n",
    "plt.show()"
   ]
  },
  {
   "cell_type": "code",
   "execution_count": 55,
   "metadata": {},
   "outputs": [],
   "source": [
    "num_trials = 100\n",
    "num_readings_per_trial = 5\n",
    "num_sensors = 10\n",
    "\n",
    "data_ = (data-np.min(data))/(np.max(data)-np.min(data))\n",
    "\n",
    "# Create a heatmap\n",
    "plt.imshow(data_.mean(axis=0), cmap='viridis', aspect='auto', origin='lower')\n",
    "plt.colorbar(label='Normalised Sensor Values')\n",
    "plt.xlabel('Sensors')\n",
    "plt.ylabel('Trials')\n",
    "plt.title('Sensor Readings Heatmap')\n",
    "plt.show()"
   ]
  },
  {
   "cell_type": "code",
   "execution_count": 68,
   "metadata": {},
   "outputs": [
    {
     "name": "stderr",
     "output_type": "stream",
     "text": [
      "No artists with labels found to put in legend.  Note that artists whose label start with an underscore are ignored when legend() is called with no argument.\n",
      "No artists with labels found to put in legend.  Note that artists whose label start with an underscore are ignored when legend() is called with no argument.\n",
      "No artists with labels found to put in legend.  Note that artists whose label start with an underscore are ignored when legend() is called with no argument.\n",
      "No artists with labels found to put in legend.  Note that artists whose label start with an underscore are ignored when legend() is called with no argument.\n",
      "No artists with labels found to put in legend.  Note that artists whose label start with an underscore are ignored when legend() is called with no argument.\n"
     ]
    }
   ],
   "source": [
    "data_ = (data-np.min(data))/(np.max(data)-np.min(data))\n",
    "\n",
    "# Define the number of rows and columns for subplots\n",
    "num_rows = 5  # You can adjust this as needed\n",
    "num_cols = 1  # You can adjust this as needed\n",
    "\n",
    "# Create subplots for each trial\n",
    "fig, axes = plt.subplots(num_cols, num_rows, figsize=(16, 4))\n",
    "\n",
    "for i in range(num_rows):\n",
    "    for sensor_index in range(num_sensors):\n",
    "        axes[i].imshow(data_[:,i], cmap='viridis', aspect='auto', origin='lower')\n",
    "    axes[i].set_xlabel('Sensor Readings')\n",
    "    axes[i].set_ylabel('Trial')\n",
    "    axes[i].set_title(f'Pressure {i+1}')\n",
    "    axes[i].legend()\n",
    "\n",
    "# Adjust spacing between subplots\n",
    "plt.tight_layout()\n",
    "\n",
    "plt.show()\n"
   ]
  },
  {
   "cell_type": "markdown",
   "metadata": {},
   "source": [
    "# Direction"
   ]
  },
  {
   "cell_type": "code",
   "execution_count": 10,
   "metadata": {},
   "outputs": [
    {
     "name": "stdout",
     "output_type": "stream",
     "text": [
      "(100, 3, 4, 10)\n",
      "(100, 4)\n"
     ]
    },
    {
     "data": {
      "text/plain": [
       "((100, 4), (100, 4))"
      ]
     },
     "execution_count": 10,
     "metadata": {},
     "output_type": "execute_result"
    }
   ],
   "source": [
    "\n",
    "data=np.load(path+\"directionVals_2.npy\")\n",
    "print(data.shape)\n",
    "averaged=np.mean(data,axis=1)\n",
    "#100 trials\n",
    "#4 classes\n",
    "#10 sensors\n",
    "averaged_sensors=np.mean(averaged,axis=2)\n",
    "#100 trials\n",
    "#4 classes\n",
    "print(averaged_sensors.shape)\n",
    "x=np.sin(averaged_sensors)\n",
    "y=np.cos(averaged_sensors)\n",
    "x.shape,y.shape"
   ]
  },
  {
   "cell_type": "code",
   "execution_count": 5,
   "metadata": {},
   "outputs": [],
   "source": [
    "num_trials = 100\n",
    "num_readings_per_trial = 4\n",
    "num_sensors = 10\n",
    "\n",
    "data_ = (averaged-np.min(averaged))/(np.max(averaged)-np.min(averaged))\n",
    "\n",
    "# Create a heatmap\n",
    "plt.imshow(data_.mean(axis=0), cmap='viridis', aspect='auto', origin='lower')\n",
    "plt.colorbar(label='Normalised Sensor Values')\n",
    "plt.xlabel('Sensors')\n",
    "plt.ylabel('Trials')\n",
    "plt.title('Sensor Readings Heatmap')\n",
    "plt.show()"
   ]
  },
  {
   "cell_type": "code",
   "execution_count": 8,
   "metadata": {},
   "outputs": [
    {
     "name": "stderr",
     "output_type": "stream",
     "text": [
      "No artists with labels found to put in legend.  Note that artists whose label start with an underscore are ignored when legend() is called with no argument.\n",
      "No artists with labels found to put in legend.  Note that artists whose label start with an underscore are ignored when legend() is called with no argument.\n",
      "No artists with labels found to put in legend.  Note that artists whose label start with an underscore are ignored when legend() is called with no argument.\n",
      "No artists with labels found to put in legend.  Note that artists whose label start with an underscore are ignored when legend() is called with no argument.\n"
     ]
    }
   ],
   "source": [
    "data_ = (averaged-np.min(averaged))/(np.max(averaged)-np.min(averaged))\n",
    "\n",
    "# Define the number of rows and columns for subplots\n",
    "num_rows = 2  # You can adjust this as needed\n",
    "num_cols = 2  # You can adjust this as needed\n",
    "\n",
    "# Create subplots for each trial\n",
    "fig, axes = plt.subplots(num_rows, num_cols, figsize=(10, 8))\n",
    "\n",
    "for i in range(num_rows):\n",
    "    for j in range(num_cols):\n",
    "        trial_index = i * num_cols + j\n",
    "        if trial_index < num_trials:\n",
    "            for sensor_index in range(num_sensors):\n",
    "                axes[i, j].imshow(data_[:,i], cmap='viridis', aspect='auto', origin='lower')\n",
    "            axes[i, j].set_xlabel('Sensor Reading')\n",
    "            axes[i, j].set_ylabel('Trial')\n",
    "            axes[i, j].set_title(f'Distance {trial_index+1}')\n",
    "            axes[i, j].legend()\n",
    "\n",
    "# Adjust spacing between subplots\n",
    "plt.tight_layout()\n",
    "\n",
    "plt.show()\n"
   ]
  },
  {
   "cell_type": "code",
   "execution_count": 14,
   "metadata": {},
   "outputs": [
    {
     "name": "stdout",
     "output_type": "stream",
     "text": [
      "(100, 4)\n"
     ]
    }
   ],
   "source": [
    "#averaged=np.mean(data,axis=1)[0].T\n",
    "averaged=x\n",
    "print(averaged.shape)\n",
    "\n",
    "for i in range(len(averaged)):\n",
    "    plt.plot(averaged[i])\n",
    "\n",
    "plt.ylabel(\"Pressure sensed as average in skin sensors\")\n",
    "plt.xlabel(\"Distance from start (cm)\")\n",
    "plt.show()"
   ]
  },
  {
   "attachments": {},
   "cell_type": "markdown",
   "metadata": {},
   "source": [
    "### Regression attempt"
   ]
  },
  {
   "cell_type": "code",
   "execution_count": null,
   "metadata": {},
   "outputs": [],
   "source": [
    "import numpy as np\n",
    "from sklearn.linear_model import Ridge\n",
    "from sklearn.model_selection import train_test_split\n",
    "from sklearn.metrics import mean_squared_error\n",
    "\n",
    "# Generate some example data\n",
    "np.random.seed(0)\n",
    "d=np.mean(data,axis=1)\n",
    "x=np.zeros((d.shape[0]*d.shape[1],10))\n",
    "y=np.zeros((d.shape[0]*d.shape[1],1))\n",
    "for i in range(0,len(d),4):\n",
    "    x[i]=d[i][0]\n",
    "    y[i]=0\n",
    "    x[i+1]=d[i][1]\n",
    "    y[i+1]=1\n",
    "    x[i+2]=d[i][2]\n",
    "    y[i+2]=2\n",
    "    x[i+3]=d[i][3]\n",
    "    y[i+3]=3\n",
    "y = np.random.rand(100, 4)   # Output with 4 target values\n",
    "\n",
    "# Split the data into training and testing sets\n",
    "X_train, X_test, y_train, y_test = train_test_split(X, y, test_size=0.2, random_state=42)\n",
    "\n",
    "# Create a Ridge regression model\n",
    "alpha = 1.0  # Ridge regularization parameter (you can adjust this)\n",
    "ridge_model = Ridge(alpha=alpha)\n",
    "\n",
    "# Fit the model to the training data\n",
    "ridge_model.fit(X_train, y_train)\n",
    "\n",
    "# Make predictions on the test data\n",
    "y_pred = ridge_model.predict(X_test)\n",
    "\n",
    "# Calculate the Mean Squared Error (MSE) as a measure of model performance\n",
    "mse = mean_squared_error(y_test, y_pred)\n",
    "print(f\"Mean Squared Error: {mse}\")"
   ]
  },
  {
   "cell_type": "markdown",
   "metadata": {},
   "source": [
    "# Vibration sensing"
   ]
  },
  {
   "cell_type": "code",
   "execution_count": 16,
   "metadata": {},
   "outputs": [
    {
     "name": "stdout",
     "output_type": "stream",
     "text": [
      "(100, 10, 1)\n"
     ]
    }
   ],
   "source": [
    "data=np.load(path+\"vibePressVals_1.npy\")\n",
    "print(data.shape)\n",
    "for i in range(len(data)):\n",
    "    plt.plot(data[i])\n",
    "plt.show()"
   ]
  },
  {
   "cell_type": "code",
   "execution_count": 13,
   "metadata": {},
   "outputs": [],
   "source": [
    "av=np.average(data,axis=0)\n",
    "average = np.mean(data, axis=0)  # Calculate the average along the first dimension (100)\n",
    "std_dev = np.std(data, axis=0)   # Calculate the standard deviation along the first dimension (100)\n",
    "\n",
    "# Reshape the results to match the shape (10, 1) for plotting\n",
    "average = average[:, 0]\n",
    "std_dev = std_dev[:, 0]\n",
    "\n",
    "# Create an array representing the x-axis (e.g., trial numbers)\n",
    "x = np.arange(0,1,0.1)\n",
    "\n",
    "# Create a plot of the average with error bars\n",
    "plt.errorbar(x, average, yerr=std_dev, fmt='-o', label='Average with Std Dev')\n",
    "\n",
    "# Set labels and title for the plot\n",
    "plt.xlabel('Force (cm)')\n",
    "plt.ylabel('Normalised analogue value')\n",
    "plt.title('Average vibration values over 100 trials')\n",
    "\n",
    "# Show a legend\n",
    "plt.legend()\n",
    "\n",
    "# Show the plot\n",
    "plt.show()\n"
   ]
  },
  {
   "cell_type": "code",
   "execution_count": 5,
   "metadata": {},
   "outputs": [
    {
     "name": "stdout",
     "output_type": "stream",
     "text": [
      "(100, 2, 4)\n"
     ]
    }
   ],
   "source": [
    "data=np.load(path+\"directionValsVibe_1.npy\")\n",
    "print(data.shape)\n"
   ]
  }
 ],
 "metadata": {
  "kernelspec": {
   "display_name": "base",
   "language": "python",
   "name": "python3"
  },
  "language_info": {
   "codemirror_mode": {
    "name": "ipython",
    "version": 3
   },
   "file_extension": ".py",
   "mimetype": "text/x-python",
   "name": "python",
   "nbconvert_exporter": "python",
   "pygments_lexer": "ipython3",
   "version": "3.10.7"
  },
  "orig_nbformat": 4
 },
 "nbformat": 4,
 "nbformat_minor": 2
}
