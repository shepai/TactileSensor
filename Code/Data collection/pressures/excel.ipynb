{
 "cells": [
  {
   "cell_type": "code",
   "execution_count": 1,
   "metadata": {},
   "outputs": [],
   "source": [
    "import numpy as np\n",
    "import matplotlib.pyplot as plt\n",
    "import matplotlib\n",
    "matplotlib.use('TkAgg')"
   ]
  },
  {
   "cell_type": "code",
   "execution_count": 3,
   "metadata": {},
   "outputs": [],
   "source": [
    "data=np.load(\"/its/home/drs25/Documents/GitHub/TactileSensor/Code/Data collection/pressures/pressureVals_1.npy\")\n",
    "weights=np.load(\"/its/home/drs25/Documents/GitHub/TactileSensor/Code/Data collection/pressures/pressureWeights_1.npy\")"
   ]
  },
  {
   "cell_type": "code",
   "execution_count": 13,
   "metadata": {},
   "outputs": [],
   "source": [
    "averaged=np.mean(data,axis=2)\n",
    "for i in range(len(data)):\n",
    "    plt.plot(weights[i],averaged[i])\n",
    "\n",
    "plt.ylabel(\"Pressure sensed as average in skin\")\n",
    "plt.xlabel(\"Pressure applied on surface\")\n",
    "plt.show()"
   ]
  }
 ],
 "metadata": {
  "kernelspec": {
   "display_name": "base",
   "language": "python",
   "name": "python3"
  },
  "language_info": {
   "codemirror_mode": {
    "name": "ipython",
    "version": 3
   },
   "file_extension": ".py",
   "mimetype": "text/x-python",
   "name": "python",
   "nbconvert_exporter": "python",
   "pygments_lexer": "ipython3",
   "version": "3.10.8"
  },
  "orig_nbformat": 4
 },
 "nbformat": 4,
 "nbformat_minor": 2
}
